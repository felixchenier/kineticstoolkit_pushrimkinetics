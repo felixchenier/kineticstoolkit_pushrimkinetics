{
 "cells": [
  {
   "cell_type": "markdown",
   "id": "7630aa1a-5536-40b5-b883-cf0f87e5b02e",
   "metadata": {},
   "source": [
    "# kineticstoolkit_pushrimkinetics\n",
    "\n",
    "The kineticstoolkit_pushrimkinetics extension allows processing kinetics data from instrumented wheelchair wheels such as the SmartWheel."
   ]
  },
  {
   "cell_type": "code",
   "execution_count": 1,
   "id": "b7d06270-821f-4d96-98c1-547ee922d7a6",
   "metadata": {},
   "outputs": [],
   "source": [
    "import kineticstoolkit.lab as ktk\n",
    "import matplotlib.pyplot as plt\n",
    "import numpy as np\n",
    "import pandas as pd"
   ]
  },
  {
   "cell_type": "markdown",
   "id": "d0815a01-049f-4359-8d55-e89821c432aa",
   "metadata": {},
   "source": [
    "## Read data from file\n",
    "\n",
    "The first step is to load data from a file, using the read_file() function."
   ]
  },
  {
   "cell_type": "code",
   "execution_count": 2,
   "id": "819a9320-21f2-49ea-b22c-3a9c09da261f",
   "metadata": {},
   "outputs": [
    {
     "ename": "FileNotFoundError",
     "evalue": "[Errno 2] No such file or directory: 'pushrimkinetics_offsets_propulsion.csv'",
     "output_type": "error",
     "traceback": [
      "\u001b[0;31m---------------------------------------------------------------------------\u001b[0m",
      "\u001b[0;31mFileNotFoundError\u001b[0m                         Traceback (most recent call last)",
      "\u001b[0;32m/var/folders/7v/g5_ntzfx35v4ck07wflynw640000gp/T/ipykernel_93417/4272009121.py\u001b[0m in \u001b[0;36m<cell line: 1>\u001b[0;34m()\u001b[0m\n\u001b[0;32m----> 1\u001b[0;31m kinetics = ktk.pushrimkinetics.read_file(\n\u001b[0m\u001b[1;32m      2\u001b[0m     \u001b[0;34m'pushrimkinetics_offsets_propulsion.csv'\u001b[0m\u001b[0;34m,\u001b[0m\u001b[0;34m\u001b[0m\u001b[0;34m\u001b[0m\u001b[0m\n\u001b[1;32m      3\u001b[0m     \u001b[0mfile_format\u001b[0m\u001b[0;34m=\u001b[0m\u001b[0;34m'smartwheel'\u001b[0m\u001b[0;34m\u001b[0m\u001b[0;34m\u001b[0m\u001b[0m\n\u001b[1;32m      4\u001b[0m )\n",
      "\u001b[0;32m~/Documents/git/kineticstoolkit/kineticstoolkit/pushrimkinetics.py\u001b[0m in \u001b[0;36mread_file\u001b[0;34m(filename, file_format)\u001b[0m\n\u001b[1;32m     63\u001b[0m     \u001b[0;32mif\u001b[0m \u001b[0mfile_format\u001b[0m \u001b[0;34m==\u001b[0m \u001b[0;34m'smartwheel'\u001b[0m\u001b[0;34m:\u001b[0m\u001b[0;34m\u001b[0m\u001b[0;34m\u001b[0m\u001b[0m\n\u001b[1;32m     64\u001b[0m \u001b[0;34m\u001b[0m\u001b[0m\n\u001b[0;32m---> 65\u001b[0;31m         \u001b[0mdataframe\u001b[0m \u001b[0;34m=\u001b[0m \u001b[0mpd\u001b[0m\u001b[0;34m.\u001b[0m\u001b[0mread_csv\u001b[0m\u001b[0;34m(\u001b[0m\u001b[0mfilename\u001b[0m\u001b[0;34m,\u001b[0m \u001b[0mdelimiter\u001b[0m\u001b[0;34m=\u001b[0m\u001b[0;32mNone\u001b[0m\u001b[0;34m,\u001b[0m \u001b[0mheader\u001b[0m\u001b[0;34m=\u001b[0m\u001b[0;32mNone\u001b[0m\u001b[0;34m)\u001b[0m\u001b[0;34m\u001b[0m\u001b[0;34m\u001b[0m\u001b[0m\n\u001b[0m\u001b[1;32m     66\u001b[0m         \u001b[0;32mif\u001b[0m \u001b[0mdataframe\u001b[0m\u001b[0;34m.\u001b[0m\u001b[0mshape\u001b[0m\u001b[0;34m[\u001b[0m\u001b[0;36m1\u001b[0m\u001b[0;34m]\u001b[0m \u001b[0;34m==\u001b[0m \u001b[0;36m1\u001b[0m\u001b[0;34m:\u001b[0m  \u001b[0;31m# Retry with ; as separator\u001b[0m\u001b[0;34m\u001b[0m\u001b[0;34m\u001b[0m\u001b[0m\n\u001b[1;32m     67\u001b[0m             \u001b[0mdataframe\u001b[0m \u001b[0;34m=\u001b[0m \u001b[0mpd\u001b[0m\u001b[0;34m.\u001b[0m\u001b[0mread_csv\u001b[0m\u001b[0;34m(\u001b[0m\u001b[0mfilename\u001b[0m\u001b[0;34m,\u001b[0m \u001b[0mdelimiter\u001b[0m\u001b[0;34m=\u001b[0m\u001b[0;34m';'\u001b[0m\u001b[0;34m,\u001b[0m \u001b[0mheader\u001b[0m\u001b[0;34m=\u001b[0m\u001b[0;32mNone\u001b[0m\u001b[0;34m)\u001b[0m\u001b[0;34m\u001b[0m\u001b[0;34m\u001b[0m\u001b[0m\n",
      "\u001b[0;32m~/miniconda3/envs/mosa/lib/python3.8/site-packages/pandas/util/_decorators.py\u001b[0m in \u001b[0;36mwrapper\u001b[0;34m(*args, **kwargs)\u001b[0m\n\u001b[1;32m    309\u001b[0m                     \u001b[0mstacklevel\u001b[0m\u001b[0;34m=\u001b[0m\u001b[0mstacklevel\u001b[0m\u001b[0;34m,\u001b[0m\u001b[0;34m\u001b[0m\u001b[0;34m\u001b[0m\u001b[0m\n\u001b[1;32m    310\u001b[0m                 )\n\u001b[0;32m--> 311\u001b[0;31m             \u001b[0;32mreturn\u001b[0m \u001b[0mfunc\u001b[0m\u001b[0;34m(\u001b[0m\u001b[0;34m*\u001b[0m\u001b[0margs\u001b[0m\u001b[0;34m,\u001b[0m \u001b[0;34m**\u001b[0m\u001b[0mkwargs\u001b[0m\u001b[0;34m)\u001b[0m\u001b[0;34m\u001b[0m\u001b[0;34m\u001b[0m\u001b[0m\n\u001b[0m\u001b[1;32m    312\u001b[0m \u001b[0;34m\u001b[0m\u001b[0m\n\u001b[1;32m    313\u001b[0m         \u001b[0;32mreturn\u001b[0m \u001b[0mwrapper\u001b[0m\u001b[0;34m\u001b[0m\u001b[0;34m\u001b[0m\u001b[0m\n",
      "\u001b[0;32m~/miniconda3/envs/mosa/lib/python3.8/site-packages/pandas/io/parsers/readers.py\u001b[0m in \u001b[0;36mread_csv\u001b[0;34m(filepath_or_buffer, sep, delimiter, header, names, index_col, usecols, squeeze, prefix, mangle_dupe_cols, dtype, engine, converters, true_values, false_values, skipinitialspace, skiprows, skipfooter, nrows, na_values, keep_default_na, na_filter, verbose, skip_blank_lines, parse_dates, infer_datetime_format, keep_date_col, date_parser, dayfirst, cache_dates, iterator, chunksize, compression, thousands, decimal, lineterminator, quotechar, quoting, doublequote, escapechar, comment, encoding, encoding_errors, dialect, error_bad_lines, warn_bad_lines, on_bad_lines, delim_whitespace, low_memory, memory_map, float_precision, storage_options)\u001b[0m\n\u001b[1;32m    678\u001b[0m     \u001b[0mkwds\u001b[0m\u001b[0;34m.\u001b[0m\u001b[0mupdate\u001b[0m\u001b[0;34m(\u001b[0m\u001b[0mkwds_defaults\u001b[0m\u001b[0;34m)\u001b[0m\u001b[0;34m\u001b[0m\u001b[0;34m\u001b[0m\u001b[0m\n\u001b[1;32m    679\u001b[0m \u001b[0;34m\u001b[0m\u001b[0m\n\u001b[0;32m--> 680\u001b[0;31m     \u001b[0;32mreturn\u001b[0m \u001b[0m_read\u001b[0m\u001b[0;34m(\u001b[0m\u001b[0mfilepath_or_buffer\u001b[0m\u001b[0;34m,\u001b[0m \u001b[0mkwds\u001b[0m\u001b[0;34m)\u001b[0m\u001b[0;34m\u001b[0m\u001b[0;34m\u001b[0m\u001b[0m\n\u001b[0m\u001b[1;32m    681\u001b[0m \u001b[0;34m\u001b[0m\u001b[0m\n\u001b[1;32m    682\u001b[0m \u001b[0;34m\u001b[0m\u001b[0m\n",
      "\u001b[0;32m~/miniconda3/envs/mosa/lib/python3.8/site-packages/pandas/io/parsers/readers.py\u001b[0m in \u001b[0;36m_read\u001b[0;34m(filepath_or_buffer, kwds)\u001b[0m\n\u001b[1;32m    573\u001b[0m \u001b[0;34m\u001b[0m\u001b[0m\n\u001b[1;32m    574\u001b[0m     \u001b[0;31m# Create the parser.\u001b[0m\u001b[0;34m\u001b[0m\u001b[0;34m\u001b[0m\u001b[0;34m\u001b[0m\u001b[0m\n\u001b[0;32m--> 575\u001b[0;31m     \u001b[0mparser\u001b[0m \u001b[0;34m=\u001b[0m \u001b[0mTextFileReader\u001b[0m\u001b[0;34m(\u001b[0m\u001b[0mfilepath_or_buffer\u001b[0m\u001b[0;34m,\u001b[0m \u001b[0;34m**\u001b[0m\u001b[0mkwds\u001b[0m\u001b[0;34m)\u001b[0m\u001b[0;34m\u001b[0m\u001b[0;34m\u001b[0m\u001b[0m\n\u001b[0m\u001b[1;32m    576\u001b[0m \u001b[0;34m\u001b[0m\u001b[0m\n\u001b[1;32m    577\u001b[0m     \u001b[0;32mif\u001b[0m \u001b[0mchunksize\u001b[0m \u001b[0;32mor\u001b[0m \u001b[0miterator\u001b[0m\u001b[0;34m:\u001b[0m\u001b[0;34m\u001b[0m\u001b[0;34m\u001b[0m\u001b[0m\n",
      "\u001b[0;32m~/miniconda3/envs/mosa/lib/python3.8/site-packages/pandas/io/parsers/readers.py\u001b[0m in \u001b[0;36m__init__\u001b[0;34m(self, f, engine, **kwds)\u001b[0m\n\u001b[1;32m    931\u001b[0m \u001b[0;34m\u001b[0m\u001b[0m\n\u001b[1;32m    932\u001b[0m         \u001b[0mself\u001b[0m\u001b[0;34m.\u001b[0m\u001b[0mhandles\u001b[0m\u001b[0;34m:\u001b[0m \u001b[0mIOHandles\u001b[0m \u001b[0;34m|\u001b[0m \u001b[0;32mNone\u001b[0m \u001b[0;34m=\u001b[0m \u001b[0;32mNone\u001b[0m\u001b[0;34m\u001b[0m\u001b[0;34m\u001b[0m\u001b[0m\n\u001b[0;32m--> 933\u001b[0;31m         \u001b[0mself\u001b[0m\u001b[0;34m.\u001b[0m\u001b[0m_engine\u001b[0m \u001b[0;34m=\u001b[0m \u001b[0mself\u001b[0m\u001b[0;34m.\u001b[0m\u001b[0m_make_engine\u001b[0m\u001b[0;34m(\u001b[0m\u001b[0mf\u001b[0m\u001b[0;34m,\u001b[0m \u001b[0mself\u001b[0m\u001b[0;34m.\u001b[0m\u001b[0mengine\u001b[0m\u001b[0;34m)\u001b[0m\u001b[0;34m\u001b[0m\u001b[0;34m\u001b[0m\u001b[0m\n\u001b[0m\u001b[1;32m    934\u001b[0m \u001b[0;34m\u001b[0m\u001b[0m\n\u001b[1;32m    935\u001b[0m     \u001b[0;32mdef\u001b[0m \u001b[0mclose\u001b[0m\u001b[0;34m(\u001b[0m\u001b[0mself\u001b[0m\u001b[0;34m)\u001b[0m\u001b[0;34m:\u001b[0m\u001b[0;34m\u001b[0m\u001b[0;34m\u001b[0m\u001b[0m\n",
      "\u001b[0;32m~/miniconda3/envs/mosa/lib/python3.8/site-packages/pandas/io/parsers/readers.py\u001b[0m in \u001b[0;36m_make_engine\u001b[0;34m(self, f, engine)\u001b[0m\n\u001b[1;32m   1215\u001b[0m             \u001b[0;31m# \"Union[str, PathLike[str], ReadCsvBuffer[bytes], ReadCsvBuffer[str]]\"\u001b[0m\u001b[0;34m\u001b[0m\u001b[0;34m\u001b[0m\u001b[0;34m\u001b[0m\u001b[0m\n\u001b[1;32m   1216\u001b[0m             \u001b[0;31m# , \"str\", \"bool\", \"Any\", \"Any\", \"Any\", \"Any\", \"Any\"\u001b[0m\u001b[0;34m\u001b[0m\u001b[0;34m\u001b[0m\u001b[0;34m\u001b[0m\u001b[0m\n\u001b[0;32m-> 1217\u001b[0;31m             self.handles = get_handle(  # type: ignore[call-overload]\n\u001b[0m\u001b[1;32m   1218\u001b[0m                 \u001b[0mf\u001b[0m\u001b[0;34m,\u001b[0m\u001b[0;34m\u001b[0m\u001b[0;34m\u001b[0m\u001b[0m\n\u001b[1;32m   1219\u001b[0m                 \u001b[0mmode\u001b[0m\u001b[0;34m,\u001b[0m\u001b[0;34m\u001b[0m\u001b[0;34m\u001b[0m\u001b[0m\n",
      "\u001b[0;32m~/miniconda3/envs/mosa/lib/python3.8/site-packages/pandas/io/common.py\u001b[0m in \u001b[0;36mget_handle\u001b[0;34m(path_or_buf, mode, encoding, compression, memory_map, is_text, errors, storage_options)\u001b[0m\n\u001b[1;32m    787\u001b[0m         \u001b[0;32mif\u001b[0m \u001b[0mioargs\u001b[0m\u001b[0;34m.\u001b[0m\u001b[0mencoding\u001b[0m \u001b[0;32mand\u001b[0m \u001b[0;34m\"b\"\u001b[0m \u001b[0;32mnot\u001b[0m \u001b[0;32min\u001b[0m \u001b[0mioargs\u001b[0m\u001b[0;34m.\u001b[0m\u001b[0mmode\u001b[0m\u001b[0;34m:\u001b[0m\u001b[0;34m\u001b[0m\u001b[0;34m\u001b[0m\u001b[0m\n\u001b[1;32m    788\u001b[0m             \u001b[0;31m# Encoding\u001b[0m\u001b[0;34m\u001b[0m\u001b[0;34m\u001b[0m\u001b[0;34m\u001b[0m\u001b[0m\n\u001b[0;32m--> 789\u001b[0;31m             handle = open(\n\u001b[0m\u001b[1;32m    790\u001b[0m                 \u001b[0mhandle\u001b[0m\u001b[0;34m,\u001b[0m\u001b[0;34m\u001b[0m\u001b[0;34m\u001b[0m\u001b[0m\n\u001b[1;32m    791\u001b[0m                 \u001b[0mioargs\u001b[0m\u001b[0;34m.\u001b[0m\u001b[0mmode\u001b[0m\u001b[0;34m,\u001b[0m\u001b[0;34m\u001b[0m\u001b[0;34m\u001b[0m\u001b[0m\n",
      "\u001b[0;31mFileNotFoundError\u001b[0m: [Errno 2] No such file or directory: 'pushrimkinetics_offsets_propulsion.csv'"
     ]
    }
   ],
   "source": [
    "kinetics = ktk.pushrimkinetics.read_file(\n",
    "    'pushrimkinetics_offsets_propulsion.csv',\n",
    "    file_format='smartwheel'\n",
    ")"
   ]
  },
  {
   "cell_type": "markdown",
   "id": "9f67f9f0-df1e-4ec9-81db-7312443c1bc3",
   "metadata": {},
   "source": [
    "Let see what we loaded:"
   ]
  },
  {
   "cell_type": "code",
   "execution_count": null,
   "id": "f92c1f9f-1fc1-44fd-9824-20534cf828c1",
   "metadata": {},
   "outputs": [],
   "source": [
    "kinetics"
   ]
  },
  {
   "cell_type": "code",
   "execution_count": null,
   "id": "e34949f3-53da-4347-8418-14a75d7aa032",
   "metadata": {},
   "outputs": [],
   "source": [
    "kinetics.data"
   ]
  },
  {
   "cell_type": "code",
   "execution_count": null,
   "id": "faff30d7-64be-4192-a9bd-09f1f0306af2",
   "metadata": {},
   "outputs": [],
   "source": [
    "plt.subplot(2, 1, 1)\n",
    "kinetics.plot('Forces')\n",
    "plt.subplot(2, 1, 2)\n",
    "kinetics.plot('Moments')\n",
    "plt.tight_layout()"
   ]
  },
  {
   "cell_type": "markdown",
   "id": "90176f72-dfc9-43e5-bca9-90f8030dc0fa",
   "metadata": {},
   "source": [
    "## Calculate forces and moments\n",
    "\n",
    "If the loaded data doesn't include forces and moments but only raw data (for exemple, when loading data from a SmartWheel's SD card), we must calculate the forces and moments based on a calibration matrix. The function [pushrimkinetics.calculate_forces_and_moments()](api/kineticstoolkit.pushrimkinetics.calculate_forces_and_moments.rst) performs this calculation."
   ]
  },
  {
   "cell_type": "code",
   "execution_count": null,
   "id": "76a0aab7-1723-43e3-8487-2cb030db63fa",
   "metadata": {},
   "outputs": [],
   "source": [
    "# This instrumented wheel's calibration:\n",
    "\n",
    "# Gains for the 3 forces and 3 moments, in N/channel value and Nm/channel value.\n",
    "gains = [-0.106, 0.106, 0.094, 0.022, -0.022, 0.0234999]\n",
    "\n",
    "# Offsets for the 3 forces and 3 moments\n",
    "offsets = [0., 10., 0., 0., 0., 0.]\n",
    "\n",
    "# Perform the calculation\n",
    "new_kinetics = ktk.pushrimkinetics.calculate_forces_and_moments(\n",
    "    kinetics,\n",
    "    gains=gains,\n",
    "    offsets=offsets,\n",
    "    transducer='smartwheel',\n",
    "    reference_frame='hub')\n",
    "\n",
    "# Plot the results\n",
    "plt.subplot(2, 1, 1)\n",
    "new_kinetics.plot('Forces')\n",
    "plt.subplot(2, 1, 2)\n",
    "new_kinetics.plot('Moments')\n",
    "plt.tight_layout()"
   ]
  },
  {
   "cell_type": "markdown",
   "id": "fa07165c-e5da-49e0-acbf-fae564e54ec0",
   "metadata": {},
   "source": [
    "We observe some sign differences here. In fact, the SmartWheel softwares inverts some signals based on the SmartWheel's sign convention and the side of the wheel. When the forces and moments are reconstructed from raw data, these sign changes do not happen, which explains these discrepancies.\n",
    "\n",
    "## Removing dynamic offsets in forces and moments\n",
    "\n",
    "We observe in the last graphs that dynamic (sinusoidal) offsets are presents mostly in the forces but also in the moments. We can auto-remove these offsets using [pushrimkinetics.remove_offsets()](api/kineticstoolkit.pushrimkinetics.remove_offsets.rst).\n",
    "\n",
    "Let's apply this function on the data we just loaded."
   ]
  },
  {
   "cell_type": "code",
   "execution_count": null,
   "id": "ffcc94c9-7251-444e-8ac7-f13498fbf2f8",
   "metadata": {},
   "outputs": [],
   "source": [
    "plt.subplot(2, 1, 1)\n",
    "kinetics.plot('Forces')\n",
    "plt.title('Before removing offsets')\n",
    "plt.tight_layout()"
   ]
  },
  {
   "cell_type": "code",
   "execution_count": null,
   "id": "84970759-fde4-4579-b0b8-0cf715e67794",
   "metadata": {},
   "outputs": [],
   "source": [
    "kinetics = ktk.pushrimkinetics.remove_offsets(kinetics)\n",
    "\n",
    "plt.subplot(2, 1, 2)\n",
    "kinetics.plot('Forces')\n",
    "plt.title('After removing offsets')\n",
    "plt.tight_layout()"
   ]
  },
  {
   "cell_type": "markdown",
   "id": "c32b35eb-1bb3-414f-bfbc-3135a082cfb0",
   "metadata": {},
   "source": [
    "This automatic method has only be validated for straight-line, level-ground propulsion. For any other condition, a baseline trial is required. A baseline trial is a trial where an operator pushes the wheelchair but no external force appart from gravity is applied on the instrumented wheel. Please consult the [pushrimkinetics.remove_offsets()](api/kineticstoolkit.pushrimkinetics.remove_offsets.rst) function help for more information.\n",
    "\n",
    "## Calculate velocity and power\n",
    "\n",
    "Thee wheel velocity is calculated from the wheel angle with a derivative Savitsky-Golay filter, using the [pushrimkinetics.calculate_velocity()](api/kineticstoolkit.pushrimkinetics.calculate_velocity.rst) function. Once the velocity has been calculated, the output power can also be calculated by\n",
    "multiplying the velocity by the propulsion moment, using the [pushrimkinetics.calculate_power()](api/kineticstoolkit.pushrimkinetics.calculate_power.rst) function."
   ]
  },
  {
   "cell_type": "code",
   "execution_count": null,
   "id": "4a8d2b74-88ed-4ead-9df3-63dd2f6a15f4",
   "metadata": {},
   "outputs": [],
   "source": [
    "kinetics = ktk.pushrimkinetics.calculate_velocity(kinetics)\n",
    "kinetics = ktk.pushrimkinetics.calculate_power(kinetics)\n",
    "\n",
    "plt.subplot(2, 1, 1)\n",
    "kinetics.plot('Velocity')\n",
    "plt.subplot(2, 1, 2)\n",
    "kinetics.plot('Power')\n",
    "plt.tight_layout()"
   ]
  },
  {
   "cell_type": "markdown",
   "id": "5a70a183-d537-4de9-b805-5ea45f002d1b",
   "metadata": {},
   "source": [
    "## Detecting the pushes\n",
    "\n",
    "The [cycles](api/kineticstoolkit.cycles.rst) module provides powerful tools to detect and manage cycles. Here we use [cycles.detect_cycles()](api/kineticstoolkit.cycles.detect_cycles.rst) to detect the pushes using these specifications:\n",
    "- a push starts when the total force crosses 5 N upward;\n",
    "- a push ends when the total force crosses 2 N downward;\n",
    "- for a push to be valid, it must last at least 100 ms;\n",
    "- to be valid, the total force must reach 25 N."
   ]
  },
  {
   "cell_type": "code",
   "execution_count": null,
   "id": "35ffa974-d819-48ff-95b1-52f53f1042df",
   "metadata": {},
   "outputs": [],
   "source": [
    "# Create the total force data\n",
    "kinetics.data['Ftot'] = np.sqrt(np.sum(kinetics.data['Forces'] ** 2, axis=1))\n",
    "\n",
    "kinetics = ktk.cycles.detect_cycles(\n",
    "    kinetics, 'Ftot',\n",
    "    event_names=['push', 'recovery'],\n",
    "    thresholds=[5.0, 2.0],\n",
    "    min_durations=[0.1, 0.1],\n",
    "    min_peak_heights=[25.0, -np.Inf]\n",
    ")\n",
    "\n",
    "kinetics.plot('Forces')\n",
    "plt.tight_layout()"
   ]
  },
  {
   "cell_type": "markdown",
   "id": "930d5b77-6d0d-47ef-8640-78c34a6d1587",
   "metadata": {},
   "source": [
    "## Extracting spatiotemporal and kinetic parameters\n",
    "\n",
    "As a conclusion to this tutorial, we will now extract some key spatiotemporal and kinetic parameters from these data, and express those parameters as a pandas DataFrame. Obviously, this is only an example and many other parameters can be calculated using a similar procedure."
   ]
  },
  {
   "cell_type": "code",
   "execution_count": null,
   "id": "ee167973-4643-4700-80fb-f070c8fc79c8",
   "metadata": {},
   "outputs": [],
   "source": [
    "n_cycles = 15  # Number of cycles to analyze\n",
    "\n",
    "records = []  # Init a list that will contains the results of the analysis\n",
    "\n",
    "for i_cycle in range(n_cycles):\n",
    "    \n",
    "    # Get a TimeSeries that spans only the push i_push\n",
    "    ts_push = kinetics.get_ts_between_events('push', 'recovery', i_cycle, i_cycle)\n",
    "    \n",
    "    # Get a TimeSeries that spans the entire cycle i_push\n",
    "    ts_cycle = kinetics.get_ts_between_events('push', '_', i_cycle, i_cycle)\n",
    "    \n",
    "    # Get some spatiotemporal parameters\n",
    "    push_time = ts_push.time[-1] - ts_push.time[0]\n",
    "    cycle_time = ts_cycle.time[-1] - ts_cycle.time[0]\n",
    "    recovery_time = cycle_time - push_time\n",
    "\n",
    "    push_angle = ts_push.data['Angle'][-1] - ts_push.data['Angle'][0]\n",
    "    \n",
    "    # Get some kinetic parameters\n",
    "    propulsion_moment_mean = np.mean(ts_push.data['Moments'][:, 2])\n",
    "    propulsion_moment_max = np.max(ts_push.data['Moments'][:, 2])\n",
    "    \n",
    "    total_force_mean = np.mean(ts_push.data['Ftot'])\n",
    "    total_force_max = np.max(ts_push.data['Ftot'])\n",
    "    \n",
    "    # Record this information in the records list\n",
    "    records.append({\n",
    "        'Push time (s)': push_time,\n",
    "        'Recovery time (s)': recovery_time,\n",
    "        'Cycle time (s)': cycle_time,\n",
    "        'Push angle (deg)': np.rad2deg(push_angle),\n",
    "        'Mean propulsion moment (Nm)': propulsion_moment_mean,\n",
    "        'Max propulsion moment (Nm)': propulsion_moment_max,\n",
    "        'Mean total force (N)': total_force_mean,\n",
    "        'Max total force (N)': total_force_max,\n",
    "    })\n",
    "\n",
    "# Create and show a DataFrame of this information\n",
    "df = pd.DataFrame.from_dict(records)\n",
    "\n",
    "# Copy the dataframe to the clipboard for pasting into Excel (facultative)\n",
    "df.to_clipboard()\n",
    "\n",
    "# Print the dataframe here\n",
    "df"
   ]
  },
  {
   "cell_type": "markdown",
   "id": "5d0607c6-8baa-499c-9975-5a76a3a31614",
   "metadata": {},
   "source": [
    "For more information, please check the [API Reference for the pushrimkinetics module](api/kineticstoolkit.pushrimkinetics.rst)."
   ]
  }
 ],
 "metadata": {
  "kernelspec": {
   "display_name": "Python 3 (ipykernel)",
   "language": "python",
   "name": "python3"
  },
  "language_info": {
   "codemirror_mode": {
    "name": "ipython",
    "version": 3
   },
   "file_extension": ".py",
   "mimetype": "text/x-python",
   "name": "python",
   "nbconvert_exporter": "python",
   "pygments_lexer": "ipython3",
   "version": "3.8.10"
  }
 },
 "nbformat": 4,
 "nbformat_minor": 5
}
